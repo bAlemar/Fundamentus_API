{
 "cells": [
  {
   "cell_type": "code",
   "execution_count": 6,
   "id": "54bc981f",
   "metadata": {},
   "outputs": [
    {
     "name": "stderr",
     "output_type": "stream",
     "text": [
      "C:\\Users\\berna\\AppData\\Local\\Temp\\ipykernel_21428\\1427218269.py:21: FutureWarning: The frame.append method is deprecated and will be removed from pandas in a future version. Use pandas.concat instead.\n",
      "  df_final = df_po_1.append(df_po_2)\n",
      "C:\\Users\\berna\\AppData\\Local\\Temp\\ipykernel_21428\\1427218269.py:21: FutureWarning: The frame.append method is deprecated and will be removed from pandas in a future version. Use pandas.concat instead.\n",
      "  df_final = df_po_1.append(df_po_2)\n",
      "C:\\Users\\berna\\AppData\\Local\\Temp\\ipykernel_21428\\1427218269.py:21: FutureWarning: The frame.append method is deprecated and will be removed from pandas in a future version. Use pandas.concat instead.\n",
      "  df_final = df_po_1.append(df_po_2)\n"
     ]
    },
    {
     "name": "stdout",
     "output_type": "stream",
     "text": [
      "AMAR3\n"
     ]
    },
    {
     "name": "stderr",
     "output_type": "stream",
     "text": [
      "C:\\Users\\berna\\AppData\\Local\\Temp\\ipykernel_21428\\1427218269.py:21: FutureWarning: The frame.append method is deprecated and will be removed from pandas in a future version. Use pandas.concat instead.\n",
      "  df_final = df_po_1.append(df_po_2)\n"
     ]
    },
    {
     "name": "stdout",
     "output_type": "stream",
     "text": [
      "LLIS3\n"
     ]
    },
    {
     "name": "stderr",
     "output_type": "stream",
     "text": [
      "C:\\Users\\berna\\AppData\\Local\\Temp\\ipykernel_21428\\1427218269.py:21: FutureWarning: The frame.append method is deprecated and will be removed from pandas in a future version. Use pandas.concat instead.\n",
      "  df_final = df_po_1.append(df_po_2)\n"
     ]
    },
    {
     "name": "stdout",
     "output_type": "stream",
     "text": [
      "CGRA3\n"
     ]
    },
    {
     "name": "stderr",
     "output_type": "stream",
     "text": [
      "C:\\Users\\berna\\AppData\\Local\\Temp\\ipykernel_21428\\1427218269.py:21: FutureWarning: The frame.append method is deprecated and will be removed from pandas in a future version. Use pandas.concat instead.\n",
      "  df_final = df_po_1.append(df_po_2)\n"
     ]
    },
    {
     "name": "stdout",
     "output_type": "stream",
     "text": [
      "CEAB3\n"
     ]
    },
    {
     "name": "stderr",
     "output_type": "stream",
     "text": [
      "C:\\Users\\berna\\AppData\\Local\\Temp\\ipykernel_21428\\1427218269.py:21: FutureWarning: The frame.append method is deprecated and will be removed from pandas in a future version. Use pandas.concat instead.\n",
      "  df_final = df_po_1.append(df_po_2)\n"
     ]
    },
    {
     "name": "stdout",
     "output_type": "stream",
     "text": [
      "GUAR3\n"
     ]
    },
    {
     "name": "stderr",
     "output_type": "stream",
     "text": [
      "C:\\Users\\berna\\AppData\\Local\\Temp\\ipykernel_21428\\1427218269.py:21: FutureWarning: The frame.append method is deprecated and will be removed from pandas in a future version. Use pandas.concat instead.\n",
      "  df_final = df_po_1.append(df_po_2)\n"
     ]
    },
    {
     "name": "stdout",
     "output_type": "stream",
     "text": [
      "LREN3\n"
     ]
    },
    {
     "name": "stderr",
     "output_type": "stream",
     "text": [
      "C:\\Users\\berna\\AppData\\Local\\Temp\\ipykernel_21428\\1427218269.py:21: FutureWarning: The frame.append method is deprecated and will be removed from pandas in a future version. Use pandas.concat instead.\n",
      "  df_final = df_po_1.append(df_po_2)\n"
     ]
    },
    {
     "name": "stdout",
     "output_type": "stream",
     "text": [
      "ARZZ3\n"
     ]
    },
    {
     "name": "stderr",
     "output_type": "stream",
     "text": [
      "C:\\Users\\berna\\AppData\\Local\\Temp\\ipykernel_21428\\1427218269.py:21: FutureWarning: The frame.append method is deprecated and will be removed from pandas in a future version. Use pandas.concat instead.\n",
      "  df_final = df_po_1.append(df_po_2)\n"
     ]
    },
    {
     "name": "stdout",
     "output_type": "stream",
     "text": [
      "SOMA3\n",
      "    Indicador Fund.   SOMA3  ARZZ3  LREN3  GUAR3   CEAB3  CGRA3   LLIS3  AMAR3\n",
      "0               P/L   29.09  27.87  26.56  10.73    4.46   4.06   -0.12 -13.81\n",
      "1              P/VP    1.51   4.49   3.14   0.95    0.39   0.87   -0.16   0.82\n",
      "2            P/EBIT   27.25  24.52  11.13  16.85   59.01   5.06   -3.31   2.81\n",
      "3               PSR    2.66   3.06   2.38   0.60    0.18   1.01    0.10   0.31\n",
      "4          P/Ativos    1.08   2.67   1.45   0.35    0.12   0.58    0.07   0.24\n",
      "5       P/Cap. Giro    6.30  14.72   5.43   1.83    0.93   2.25   -0.77   1.52\n",
      "6   P/Ativ Circ Liq  224.37  22.79  14.07 -10.63   -0.62   3.54   -0.06  -1.09\n",
      "7        Div. Yield    0.60   1.60   2.00   5.60    0.00   9.80    0.00   0.00\n",
      "8       EV / EBITDA   19.95  18.66   7.81   8.39    7.01   3.94   15.83   4.01\n",
      "9         EV / EBIT   29.72  23.73  10.66  24.97  124.41   4.43  -61.11   7.53\n",
      "10   Cres. Rec (5a)  156.30  24.00  10.10   2.60   19.20  10.60   -8.20  -1.90\n",
      "11              LPA    0.48   3.64   1.15   0.92    0.80   8.79  -12.36  -0.19\n",
      "12              VPA    9.31  22.62   9.75  10.34    9.23  41.28   -9.16   3.12\n",
      "13      Marg. Bruta   55.50  54.00  59.50  56.90   48.10  54.00   57.00  44.40\n",
      "14       Marg. EBIT    9.70  12.50  21.40   3.60    0.30  20.00   -3.10  11.10\n",
      "15    Marg. Líquida    9.10  10.90   8.90   5.60    4.10  25.00  -80.20  -2.30\n",
      "16     EBIT / Ativo    3.90  10.90  13.00   2.10    0.20  11.60   -2.10   8.70\n",
      "17             ROIC    4.30  15.70  18.50   2.40    0.30  14.20   -2.30  10.60\n",
      "18              ROE    5.20  16.10  11.80   8.90    8.70  21.30  135.00  -6.00\n",
      "19    Liquidez Corr    2.39   1.53   1.71   1.46    1.37   2.14    0.78   1.50\n",
      "20   Div Br/ Patrim    0.17   0.14   0.36   0.70    0.82   0.03   -2.94   1.62\n",
      "21      Giro Ativos    0.40   0.87   0.61   0.58    0.67   0.58    0.66   0.78\n"
     ]
    },
    {
     "name": "stderr",
     "output_type": "stream",
     "text": [
      "C:\\Users\\berna\\AppData\\Local\\Temp\\ipykernel_21428\\1427218269.py:21: FutureWarning: The frame.append method is deprecated and will be removed from pandas in a future version. Use pandas.concat instead.\n",
      "  df_final = df_po_1.append(df_po_2)\n"
     ]
    }
   ],
   "source": [
    "#Indicadores Fundamentalistas:\n",
    "ativo = 'CEAB3'\n",
    "def Ind_fund(ativo):\n",
    "    #Pegando Dados do Site\n",
    "    url = f'https://www.fundamentus.com.br/detalhes.php?papel={ativo}'\n",
    "    header = {\n",
    "      \"User-Agent\": \"Mozilla/5.0 (X11; Linux x86_64) AppleWebKit/537.36 (KHTML, like Gecko) Chrome/50.0.2661.75 Safari/537.36\",\n",
    "      \"X-Requested-With\": \"XMLHttpRequest\"\n",
    "    }\n",
    "    r = requests.get(url,headers = header)\n",
    "    \n",
    "    #Tratamento de Dados_1\n",
    "    df_po = pd.read_html(r.text,decimal=',',thousands='.')[2]\n",
    "    df_po.drop(columns=[0,1],inplace=True)\n",
    "    df_po.drop(index=[0],inplace=True)\n",
    "    \n",
    "    df_po_1 = df_po.loc[:,[2,3]]\n",
    "    df_po_2 = df_po.loc[:,[4,5]]\n",
    "    df_po_2.rename(columns = {4:2,5:3}, inplace=True)\n",
    "\n",
    "    df_final = df_po_1.append(df_po_2)\n",
    "    df_final.reset_index(inplace=True,drop=True)\n",
    "    coluna_2 = ativo\n",
    "    df_final.rename(columns = {2:'Indicador Fund.',3:coluna_2},inplace=True)\n",
    "\n",
    "    #Tratamento dos dados_2\n",
    "    df_final.loc[:,'Indicador Fund.'] = df_final.loc[:,'Indicador Fund.'].str.strip('?')\n",
    "    df_final.loc[:,coluna_2] = df_final.loc[:,coluna_2].apply(lambda x: x.strip('%').replace(',','.'))\n",
    "    df_final.loc[:,coluna_2] = df_final.loc[:,coluna_2].astype('float') \n",
    "    return df_final\n",
    "#Lista Ativos:\n",
    "Lista_Ativos = ['AMAR3','LLIS3','CGRA3','CEAB3','GUAR3','LREN3','ARZZ3','SOMA3']\n",
    "aux = 0\n",
    "for i in Lista_Ativos:\n",
    "    print(i)\n",
    "    df = Ind_fund(i)\n",
    "    if aux == 1:\n",
    "        merge_final = pd.merge(df,df_aux,on='Indicador Fund.')\n",
    "    if aux == 0:\n",
    "        df_aux = df.copy()\n",
    "    else:\n",
    "        df_aux = merge_final.copy()\n",
    "    aux = 1\n",
    "print(merge_final)\n",
    "\n"
   ]
  },
  {
   "cell_type": "code",
   "execution_count": 9,
   "id": "01a3f141",
   "metadata": {},
   "outputs": [
    {
     "name": "stdout",
     "output_type": "stream",
     "text": [
      "AMAR3 \n",
      "\n",
      "\n",
      "\n",
      "\n",
      "\n",
      "\n",
      "342836000\n",
      "2.57\n",
      "881.08852\n",
      "1069350000\n",
      "LLIS3 \n",
      "\n",
      "\n",
      "\n",
      "\n",
      "\n",
      "\n",
      "68851000\n",
      "1.51\n",
      "103.96501\n",
      "-630335000\n",
      "CGRA3 \n",
      "\n",
      "\n",
      "\n",
      "\n",
      "\n",
      "\n",
      "19346900\n",
      "35.72\n",
      "691.071268\n",
      "798591000\n",
      "CEAB3 \n",
      "\n",
      "\n",
      "\n",
      "\n",
      "\n",
      "\n",
      "308245000\n",
      "3.58\n",
      "1103.5171\n",
      "2844630000\n",
      "GUAR3 \n",
      "\n",
      "\n",
      "\n",
      "\n",
      "\n",
      "\n",
      "499200000\n",
      "9.85\n",
      "4917.12\n",
      "5163270000\n",
      "LREN3 \n",
      "\n",
      "\n",
      "\n",
      "\n",
      "\n",
      "\n",
      "990063000\n",
      "30.58\n",
      "30276.12654\n",
      "9648350000\n",
      "ARZZ3 \n",
      "\n",
      "\n",
      "\n",
      "\n",
      "\n",
      "\n",
      "110186000\n",
      "101.53\n",
      "11187.18458\n",
      "2492430000\n",
      "SOMA3 \n",
      "\n",
      "\n",
      "\n",
      "\n",
      "\n",
      "\n",
      "784747000\n",
      "14.06\n",
      "11033.54282\n",
      "7304400000\n"
     ]
    }
   ],
   "source": [
    "#Trabalho parte 2. Precisamos pegar numero de ações e Cotação para Calcular o Po.\n",
    "for i in Lista_Ativos:\n",
    "    print(i,'\\n\\n\\n\\n\\n\\n')\n",
    "    ativo = i\n",
    "    url = f'https://www.fundamentus.com.br/detalhes.php?papel={ativo}'\n",
    "    header = {\n",
    "    \"User-Agent\": \"Mozilla/5.0 (X11; Linux x86_64) AppleWebKit/537.36 (KHTML, like Gecko) Chrome/50.0.2661.75 Safari/537.36\",\n",
    "    \"X-Requested-With\": \"XMLHttpRequest\"\n",
    "    }\n",
    "    r = requests.get(url,headers = header)\n",
    "\n",
    "    #Numero de Acoes\n",
    "    df_trab2= pd.read_html(r.text,decimal=',',thousands='.')[1]\n",
    "    num_acao = df_trab2.iloc[1,3]\n",
    "    num_acao = int(num_acao)\n",
    "    print(num_acao)\n",
    "    #Cotacao\n",
    "    df_trab3 = pd.read_html(r.text,decimal=',',thousands='.')[0]\n",
    "    cotacao = df_trab3.iloc[0,3]\n",
    "    cotacao = float(cotacao)\n",
    "    print(cotacao)\n",
    "\n",
    "    #Valor da empresa (Po)\n",
    "    valor_empresa = num_acao * cotacao\n",
    "    print(valor_empresa/1000000)\n",
    "\n",
    "    #Pegando Patri.Liq\n",
    "    df_trab4 = pd.read_html(r.text,decimal=',',thousands='.')[3]\n",
    "    pat_liq = df_trab4.iloc[3,3]\n",
    "    print(pat_liq)\n",
    "\n",
    "    #Pegando Receita Liquid\n",
    "    df_trab5 = pd.read_html(r.text,decimal=',',thousands='.')[4]\n",
    "    rec_liq = df_trab5.iloc[2,1]\n",
    "    luc_liq = df_trab5.iloc[4,1]\n",
    "\n"
   ]
  },
  {
   "cell_type": "code",
   "execution_count": null,
   "id": "78e4c032",
   "metadata": {},
   "outputs": [],
   "source": [
    "# dados estavam errados \n",
    "# Tem que ir no bp da empresa e calcular os valores, Receita liquida 2021, Lucro liquido 2021 e \n",
    "#Patrimonio liquido 2021.\n",
    "\n",
    "\n",
    "\n",
    "\n",
    "\n",
    "\n",
    "\n",
    "\n"
   ]
  }
 ],
 "metadata": {
  "kernelspec": {
   "display_name": "Python 3 (ipykernel)",
   "language": "python",
   "name": "python3"
  },
  "language_info": {
   "codemirror_mode": {
    "name": "ipython",
    "version": 3
   },
   "file_extension": ".py",
   "mimetype": "text/x-python",
   "name": "python",
   "nbconvert_exporter": "python",
   "pygments_lexer": "ipython3",
   "version": "3.9.12"
  }
 },
 "nbformat": 4,
 "nbformat_minor": 5
}
